{
 "cells": [
  {
   "cell_type": "markdown",
   "metadata": {},
   "source": [
    "![image info](https://raw.githubusercontent.com/albahnsen/MIAD_ML_and_NLP/main/images/banner_1.png)"
   ]
  },
  {
   "cell_type": "markdown",
   "metadata": {},
   "source": [
    "# Taller: Tokenización de textos  \n",
    "\n",
    "En este taller podrán poner en práctica sus conocimientos sobre preprocesamiento de texto (tokenización). El taller está constituido por 5 puntos, en los cuales deberan seguir las intrucciones de cada numeral para su desarrollo."
   ]
  },
  {
   "cell_type": "markdown",
   "metadata": {},
   "source": [
    "## Datos detección de toxicidad en comentarios\n",
    "\n",
    "En este taller se usará el conjunto de datos de detección de toxicidad en comentarios de la base de datos de Kaggle. Cada observación es un comentario que tiene como variable objetivo (target) la probabilidad de ser un comentario tóxico. El objetivo es predecir la toxicidad de cada comentario. Para más detalles pueden visitar el siguiente enlace: [datos](https://www.kaggle.com/c/jigsaw-unintended-bias-in-toxicity-classification/data)."
   ]
  },
  {
   "cell_type": "code",
   "execution_count": 1,
   "metadata": {},
   "outputs": [],
   "source": [
    "import warnings\n",
    "warnings.filterwarnings('ignore')"
   ]
  },
  {
   "cell_type": "code",
   "execution_count": 2,
   "metadata": {},
   "outputs": [],
   "source": [
    "# Importación librerías\n",
    "import pandas as pd\n",
    "import numpy as np\n",
    "import scipy as sp\n",
    "from sklearn.model_selection import train_test_split, cross_val_score\n",
    "from sklearn.feature_extraction.text import CountVectorizer, TfidfVectorizer\n",
    "from sklearn import metrics\n",
    "%matplotlib inline"
   ]
  },
  {
   "cell_type": "code",
   "execution_count": 3,
   "metadata": {},
   "outputs": [
    {
     "data": {
      "text/html": [
       "<div>\n",
       "<style scoped>\n",
       "    .dataframe tbody tr th:only-of-type {\n",
       "        vertical-align: middle;\n",
       "    }\n",
       "\n",
       "    .dataframe tbody tr th {\n",
       "        vertical-align: top;\n",
       "    }\n",
       "\n",
       "    .dataframe thead th {\n",
       "        text-align: right;\n",
       "    }\n",
       "</style>\n",
       "<table border=\"1\" class=\"dataframe\">\n",
       "  <thead>\n",
       "    <tr style=\"text-align: right;\">\n",
       "      <th></th>\n",
       "      <th>id</th>\n",
       "      <th>comment_text</th>\n",
       "      <th>target</th>\n",
       "    </tr>\n",
       "  </thead>\n",
       "  <tbody>\n",
       "    <tr>\n",
       "      <th>0</th>\n",
       "      <td>6101457</td>\n",
       "      <td>What are you talking about? What group do Pete...</td>\n",
       "      <td>0.0</td>\n",
       "    </tr>\n",
       "    <tr>\n",
       "      <th>1</th>\n",
       "      <td>5342103</td>\n",
       "      <td>NO!, Let him, we need a Conservative government.</td>\n",
       "      <td>0.0</td>\n",
       "    </tr>\n",
       "    <tr>\n",
       "      <th>2</th>\n",
       "      <td>743361</td>\n",
       "      <td>Perhaps he took the \"power out of the Cardinal...</td>\n",
       "      <td>0.2</td>\n",
       "    </tr>\n",
       "    <tr>\n",
       "      <th>3</th>\n",
       "      <td>551008</td>\n",
       "      <td>As always, yours is dripping with sarcasm, whi...</td>\n",
       "      <td>0.0</td>\n",
       "    </tr>\n",
       "    <tr>\n",
       "      <th>4</th>\n",
       "      <td>865998</td>\n",
       "      <td>The dirty little secret is that the price rang...</td>\n",
       "      <td>0.3</td>\n",
       "    </tr>\n",
       "  </tbody>\n",
       "</table>\n",
       "</div>"
      ],
      "text/plain": [
       "        id                                       comment_text  target\n",
       "0  6101457  What are you talking about? What group do Pete...     0.0\n",
       "1  5342103   NO!, Let him, we need a Conservative government.     0.0\n",
       "2   743361  Perhaps he took the \"power out of the Cardinal...     0.2\n",
       "3   551008  As always, yours is dripping with sarcasm, whi...     0.0\n",
       "4   865998  The dirty little secret is that the price rang...     0.3"
      ]
     },
     "execution_count": 3,
     "metadata": {},
     "output_type": "execute_result"
    }
   ],
   "source": [
    "# Carga de datos de archivos .csv\n",
    "df = pd.read_csv('https://raw.githubusercontent.com/albahnsen/MIAD_ML_and_NLP/main/datasets/Toxicity.zip')\n",
    "df = df[['id','comment_text', 'target']]\n",
    "df.head()"
   ]
  },
  {
   "cell_type": "code",
   "execution_count": 4,
   "metadata": {},
   "outputs": [
    {
     "data": {
      "text/plain": [
       "(541462, 3)"
      ]
     },
     "execution_count": 4,
     "metadata": {},
     "output_type": "execute_result"
    }
   ],
   "source": [
    "df.shape"
   ]
  },
  {
   "cell_type": "code",
   "execution_count": 5,
   "metadata": {},
   "outputs": [
    {
     "data": {
      "text/plain": [
       "<Axes: >"
      ]
     },
     "execution_count": 5,
     "metadata": {},
     "output_type": "execute_result"
    },
    {
     "data": {
      "image/png": "[encoded data removed]",
      "text/plain": [
       "<Figure size 640x480 with 1 Axes>"
      ]
     },
     "metadata": {},
     "output_type": "display_data"
    }
   ],
   "source": [
    "# Impresión histograma de variable de interés (y)\n",
    "df.target.hist()"
   ]
  },
  {
   "cell_type": "code",
   "execution_count": 6,
   "metadata": {},
   "outputs": [
    {
     "data": {
      "text/plain": [
       "count    541462.000000\n",
       "mean          0.102991\n",
       "std           0.196979\n",
       "min           0.000000\n",
       "25%           0.000000\n",
       "50%           0.000000\n",
       "75%           0.166667\n",
       "max           1.000000\n",
       "Name: target, dtype: float64"
      ]
     },
     "execution_count": 6,
     "metadata": {},
     "output_type": "execute_result"
    }
   ],
   "source": [
    "# Separación de variable de interés (y)\n",
    "y = df.target\n",
    "y.describe()"
   ]
  },
  {
   "cell_type": "code",
   "execution_count": 7,
   "metadata": {},
   "outputs": [],
   "source": [
    "# Separación de variables predictoras (X), solo se considera el texto de la noticia\n",
    "X = df.comment_text"
   ]
  },
  {
   "cell_type": "code",
   "execution_count": 8,
   "metadata": {},
   "outputs": [],
   "source": [
    "# Separación de datos en set de entrenamiento y test\n",
    "X_train, X_test, y_train, y_test = train_test_split(X, y, test_size=0.33, random_state=42)"
   ]
  },
  {
   "cell_type": "markdown",
   "metadata": {},
   "source": [
    "## Punto 1 - Tokenización con CountVectorizer\n",
    "\n",
    "En la celda 1 creen y entrenen el modelo de regresión de su preferencia, para que prediga la probabilidad de que un comentario sea tóxico, usando los set de entrenamiento y test definidos anteriormente. Usen la función **CountVectorizer** para preprocesar los comentarios y presenten el desempeño del modelo con la métrica del MSE.\n",
    "\n",
    "Recuerden que el preprocesamiento que se haga sobre los datos de entrenamiento  (*.fit_transform()*) deben ser aplicado al set de test (*.transform()*)."
   ]
  },
  {
   "cell_type": "code",
   "execution_count": 9,
   "metadata": {},
   "outputs": [],
   "source": [
    "# librerías\n",
    "from sklearn.feature_extraction.text import CountVectorizer\n",
    "from sklearn.linear_model import SGDRegressor\n",
    "from sklearn.metrics import mean_squared_error"
   ]
  },
  {
   "cell_type": "code",
   "execution_count": 14,
   "metadata": {},
   "outputs": [
    {
     "name": "stdout",
     "output_type": "stream",
     "text": [
      "Mean Squared Error: 0.025570091473537566\n",
      "Root Mean Squared Error: 0.15990650854026414\n"
     ]
    }
   ],
   "source": [
    "# guardar mse para punto 5\n",
    "lista_mse=[]\n",
    "# crear un objeto CountVectorizer para preprocesar los datos train y test\n",
    "vect_A = CountVectorizer()\n",
    "X_tok_train = vect_A.fit_transform(X_train)\n",
    "X_tok_test = vect_A.transform(X_test)\n",
    "\n",
    "# se emplea stochastic gradient descent (SGD) como modelo de regresión\n",
    "sgd_model = SGDRegressor(loss='squared_epsilon_insensitive', random_state=42) \n",
    "\n",
    "sgd_model.fit(X_tok_train, y_train)\n",
    "\n",
    "y_pred = sgd_model.predict(X_tok_test)\n",
    "\n",
    "mse = mean_squared_error(y_test, y_pred)\n",
    "lista_mse.append(mse)\n",
    "print(f\"Mean Squared Error: {mse}\")\n",
    "print(f\"Root Mean Squared Error: {mse**0.5}\")"
   ]
  },
  {
   "cell_type": "markdown",
   "metadata": {},
   "source": [
    "## Punto 2 - Tokenización con CountVectorizer y trigramas\n",
    "\n",
    "En la celda 2 creen y entrenen el mismo modelo de regresión del punto anterior (es decir si usaron un RandomForestRegresor usen nuevamente ese regresor), para que prediga la probabilidad de que un comentario sea tóxico, usando los set de entrenamiento y test definidos anteriormente. Usen la función CountVectorizer **considerando trigramas** para preprocesar los comentarios y presenten el desempeño del modelo con la métrica del MSE.\n",
    "\n",
    "Recuerden que el preprocesamiento que se haga sobre los datos de entrenamiento  (*.fit_transform()*) deben ser aplicado al set de test (*.transform()*)."
   ]
  },
  {
   "cell_type": "code",
   "execution_count": 21,
   "metadata": {},
   "outputs": [
    {
     "name": "stdout",
     "output_type": "stream",
     "text": [
      "Mean Squared Error: 473681013.6990885\n",
      "Root Mean Squared Error: 21764.214061139184\n"
     ]
    }
   ],
   "source": [
    "vect_A = CountVectorizer(ngram_range=(3, 3))\n",
    "\n",
    "X_tok_train = vect_A.fit_transform(X_train)\n",
    "X_tok_test = vect_A.transform(X_test)\n",
    "\n",
    "sgd_model = SGDRegressor(loss='squared_epsilon_insensitive', random_state=42) \n",
    "\n",
    "sgd_model.fit(X_tok_train, y_train)\n",
    "\n",
    "y_pred = sgd_model.predict(X_tok_test)\n",
    "\n",
    "mse_trig = mean_squared_error(y_test, y_pred)\n",
    "lista_mse.append(mse_trig)\n",
    "print(f\"Mean Squared Error: {mse_trig}\")\n",
    "print(f\"Root Mean Squared Error: {mse_trig**0.5}\")"
   ]
  },
  {
   "cell_type": "markdown",
   "metadata": {},
   "source": [
    "Se observa una diferencia significativa en los resultados de los dos modelos en cuanto a la métrica mse. Esto tiene varias explicaciones:\n",
    "\n",
    "1. Por una parte, puede que para el algoritmo sea más fácil identificar la toxicidad de un comentario dada una palabra específica, puede que el contexto que aporta utilizar trigramas no brinda la información necesaria para el modelo.\n",
    "2. La generación de trigramas puede estar generando un problema de dimensionalidad con el set de datos, al generar mayor número de columnas en la matriz. Esto se puede notar en los tiempos de corrida de ambos modelos. Por esta misma razón se seleccionó SGD (Support Gradient Descent) en lugar de RandomForestRegressor. Este último tomaba un tiempo excesivo en completarse, debido a la alta dimensionalidad de los datos."
   ]
  },
  {
   "cell_type": "markdown",
   "metadata": {},
   "source": [
    "## Punto 3 - TfidfVectorizer\n",
    "\n",
    "Investigen sobre la función TfidfVectorizer. En la celda de texto 3, expliquen en qué consiste esta técnica de tokenización (describanla y expliquen su funcionamiento) y cúales son las ventajas o deventajas de su uso al compararlo con la función CountVectorizer."
   ]
  },
  {
   "cell_type": "markdown",
   "metadata": {},
   "source": [
    "**TfidfVectorizer** es una función del paquete `sklearn.feature_extraction.text`, al igual que **CountVectorizer**. \n",
    "\n",
    "La técnica consiste en convertir una serie de registros de texto en bruto a formato TF-IDF, que significa \"Term Frequency-Inverse Document Frequency\". \n",
    "La parte TF (Term Frequency) refiere a la cuenta de las ocurrencias de palabras en el texto, que es lo que realiza **CountVectorizer**, al crear una matriz en la cual sus filas son las diferentes instancias de documentos de texto (noticias, publicaciones, etc.) y sus columnas son las palabras existentes en todos los documentos. Para una fila i y una columna j, la observación ij representa el número de veces que se presenta la palabra j dentro del documento i.\n",
    "\n",
    " **TfidfVectorizer** va un paso más allá, y realiza una ponderación del TF contra IDF (Inverse Document Frequency), el cual busca penalizar las palabras que son muy frecuentes dentro de todos los documentos, y resaltar aquellas palabras distintivas de un documento respecto a los demás. Esto permite restar importancia a palabras muy comúnes dentro del lenguaje, que posiblemente no sean esenciales al problema de información que se busca solucionar, tales como las preposiciones \"el\", \"la\", \"los\", etc. en el español. Para un caso de análisis de sentimientos como el actual, por ejemplo, donde se busca identificar comentarios tóxicos, estas palabras son de poca utilidad para diferenciar la probabilidad de toxicidad a través de diferentes documentos. En cambio, palabras infrecuentes dentro de un documento, pero frecuentes en general, tales como \"odio\", \"amo\", son de mayor utilidad para solucionar el problema, y son priorizadas por el algoritmo TFIDF.\n",
    "\n",
    " Ventajas TFIDF: \n",
    "* Es un algoritmo más completo para la tokenización de palabras presentes en una colección de documentos, al dar una mayor importancia a palabras distintivas dentro de un documento, sobre palabras comúnes. Esto puede traducirse en un rendimiento mejorado de modelos de machine learning.\n",
    "\n",
    "Desventajas TFIDF:\n",
    "* Puede en ciertos casos ignorar palabras genéricas, pero importantes para la clasificación de documentos de texto en un contexto dado.\n",
    "* Al ser un algoritmo más complejo, conlleva una mayor carga computacional que el CountVectorizer.\n",
    "\n",
    "Fuentes empleadas:\n",
    "[1] Scikit Learn, \"TfidfVectorizer\". Disponible en https://scikit-learn.org/stable/modules/generated/sklearn.feature_extraction.text.TfidfVectorizer.html\n",
    "[2] Scikit Learn, \"CountVectorizer\". Disponible en https://scikit-learn.org/stable/modules/generated/sklearn.feature_extraction.text.CountVectorizer.html\n",
    "[3] Wikipedia, \"TF-IDF\". Disponible en https://en.wikipedia.org/wiki/Tf%E2%80%93idf.\n",
    "\n",
    "\n"
   ]
  },
  {
   "cell_type": "markdown",
   "metadata": {},
   "source": [
    "## Punto 4 - Tokenización con TfidfVectorizer\n",
    "\n",
    "En la celda 4 creen y entrenen el mismo modelo de regresión del primer punto, para que prediga la probabilidad de que un comentario sea tóxico, usando los set de entrenamiento y test definidos anteriormente. Procesen los comentarios con la función **TfidfVectorizer** y presenten el desempeño del modelo con la métrica del MSE.\n",
    "\n",
    "Recuerden que el preprocesamiento que se haga sobre los datos de entrenamiento  (*.fit_transform()*) deben ser aplicado al set de test (*.transform()*)."
   ]
  },
  {
   "cell_type": "code",
   "execution_count": 13,
   "metadata": {},
   "outputs": [],
   "source": [
    "# librerías\n",
    "from sklearn.feature_extraction.text import TfidfVectorizer\n",
    "from sklearn.linear_model import SGDRegressor\n",
    "from sklearn.metrics import mean_squared_error"
   ]
  },
  {
   "cell_type": "code",
   "execution_count": 16,
   "metadata": {},
   "outputs": [
    {
     "name": "stdout",
     "output_type": "stream",
     "text": [
      "Mean Squared Error: 0.03295350512238512\n",
      "Root Mean Squared Error: 0.18153100319886165\n"
     ]
    }
   ],
   "source": [
    "# crear un objeto TFIDF para preprocesar los datos train y test\n",
    "vect_A = TfidfVectorizer()\n",
    "X_tok_train = vect_A.fit_transform(X_train)\n",
    "X_tok_test = vect_A.transform(X_test)\n",
    "\n",
    "# se emplea stochastic gradient descent (SGD) como modelo de regresión\n",
    "sgd_model = SGDRegressor(loss='squared_epsilon_insensitive', random_state=42) \n",
    "\n",
    "sgd_model.fit(X_tok_train, y_train)\n",
    "\n",
    "y_pred = sgd_model.predict(X_tok_test)\n",
    "\n",
    "mse = mean_squared_error(y_test, y_pred)\n",
    "lista_mse.append(mse)\n",
    "print(f\"Mean Squared Error: {mse}\")\n",
    "print(f\"Root Mean Squared Error: {mse**0.5}\")"
   ]
  },
  {
   "cell_type": "markdown",
   "metadata": {},
   "source": [
    "## Punto 5 - Comparación y análisis de resultados\n",
    "\n",
    "En la celda 5 comparen los resultados obtenidos de los diferentes modelos y comenten cómo el preprocesamiento de texto afecta el desempeño."
   ]
  },
  {
   "cell_type": "code",
   "execution_count": 17,
   "metadata": {},
   "outputs": [],
   "source": [
    "# librerías\n",
    "import matplotlib.pyplot as plt"
   ]
  },
  {
   "cell_type": "code",
   "execution_count": 18,
   "metadata": {},
   "outputs": [
    {
     "data": {
      "image/png": "[encoded data removed]",
      "text/plain": [
       "<Figure size 640x480 with 1 Axes>"
      ]
     },
     "metadata": {},
     "output_type": "display_data"
    }
   ],
   "source": [
    "modelos=[\"CV\", \"CV Trigramas\", \"TFIDF\"]\n",
    "\n",
    "plt.bar(modelos, lista_mse)\n",
    "plt.xlabel(\"Modelo\")\n",
    "plt.ylabel(\"MSE\")\n",
    "plt.title(\"Comparación MSE Modelos\")\n",
    "plt.show()\n"
   ]
  },
  {
   "cell_type": "code",
   "execution_count": 20,
   "metadata": {},
   "outputs": [
    {
     "data": {
      "image/png": "[encoded data removed]",
      "text/plain": [
       "<Figure size 640x480 with 1 Axes>"
      ]
     },
     "metadata": {},
     "output_type": "display_data"
    }
   ],
   "source": [
    "# mostrar CV contra TFIDF\n",
    "modelos=[\"CV\", \"TFIDF\"]\n",
    "lista_2=[]\n",
    "lista_2.append(lista_mse[0])\n",
    "lista_2.append(lista_mse[2])\n",
    "plt.bar(modelos, lista_2)\n",
    "plt.xlabel(\"Modelo\")\n",
    "plt.ylabel(\"MSE\")\n",
    "plt.title(\"Comparación MSE Modelos\")\n",
    "plt.show()"
   ]
  },
  {
   "cell_type": "markdown",
   "metadata": {},
   "source": [
    "Se observan las siguientes conclusiones sobre el ejercicio:\n",
    "* Los resultados de MSE del punto 2 son atípicamente altos, especialmente considerando que los valores de la regresión son entre 0 y 1, lo cual probablemente sea un problema en el procesamiento de los datos y el empleo de la dimensionalidad de los trigramas, en combinación con el regresor SGD.\n",
    "* Entre el CountVectorizer y el TFIDFVectorizer, para esta aplicación particular se observa un rendimiento mejor del primero, lo cual, según la explicación del tercer punto, es a primera vista contraintuitivo. Adentrando un poco en el conjunto de datos, las publicaciones tienden a ser un tanto cortas, es decir de unas líneas solamente. A continuación, se muestran unos ejemplos:\n",
    "\n"
   ]
  },
  {
   "cell_type": "code",
   "execution_count": 27,
   "metadata": {},
   "outputs": [
    {
     "name": "stdout",
     "output_type": "stream",
     "text": [
      "What are you talking about? What group do Peter, Christy, and Dominique belong to? I'm not aware of any. Why are you still hiding behind a pseudonym?\n",
      "Numero de caracteres:  149\n",
      "NO!, Let him, we need a Conservative government.\n",
      "Numero de caracteres:  48\n",
      "Perhaps he took the \"power out of the Cardinal's hands\" to avoid any semblance of undue influence over the investigation?\n",
      "\n",
      "Why is it the immediate reaction of posters here to jump to rash judgment without all the facts?  All the time - no matter what the accusation.  Even more if it is an opportunity to slam the Cardinal.\n",
      "Numero de caracteres:  323\n"
     ]
    }
   ],
   "source": [
    "for i in range (0, 3):\n",
    "    print(df[\"comment_text\"][i])\n",
    "    print(\"Numero de caracteres: \",len(df[\"comment_text\"][i]))"
   ]
  },
  {
   "cell_type": "code",
   "execution_count": 31,
   "metadata": {},
   "outputs": [
    {
     "name": "stdout",
     "output_type": "stream",
     "text": [
      "Promedio de caracteres publicación:  297.3910154359863\n"
     ]
    }
   ],
   "source": [
    "total=0\n",
    "for i in range(0, df[\"comment_text\"].shape[0]):\n",
    "    total+=len(df[\"comment_text\"][i])\n",
    "prom=total/df[\"comment_text\"].shape[0]\n",
    "print(\"Promedio de caracteres publicación: \", prom)"
   ]
  },
  {
   "cell_type": "markdown",
   "metadata": {},
   "source": [
    "Estas publicaciones corresponden a comentarios cortos, de aproximadamente un párrafo (300 a 600 caracteres), por lo cual probablemente no tienen la longitud suficiente en la cual el TFIDF logra una mejora en los modelos al restar la importancia de preposiciones y palabras genéricas. Se observa que, para longitudes cortas de documentos de texto, tales como la presente, el TFIDF tiene un rendimiento inferior al CountVectorizer."
   ]
  }
 ],
 "metadata": {
  "kernelspec": {
   "display_name": "Python 3 (ipykernel)",
   "language": "python",
   "name": "python3"
  },
  "language_info": {
   "codemirror_mode": {
    "name": "ipython",
    "version": 3
   },
   "file_extension": ".py",
   "mimetype": "text/x-python",
   "name": "python",
   "nbconvert_exporter": "python",
   "pygments_lexer": "ipython3",
   "version": "3.11.5"
  },
  "name": "_merged"
 },
 "nbformat": 4,
 "nbformat_minor": 4
}
